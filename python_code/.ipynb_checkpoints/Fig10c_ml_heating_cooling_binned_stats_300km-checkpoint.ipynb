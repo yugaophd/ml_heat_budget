{
 "cells": [
  {
   "cell_type": "markdown",
   "metadata": {},
   "source": [
    "# Advection and ML heating/cooling"
   ]
  },
  {
   "cell_type": "markdown",
   "metadata": {},
   "source": [
    "# StrongCurrent case - binned stats of ML heat balance"
   ]
  },
  {
   "cell_type": "code",
   "execution_count": 1,
   "metadata": {},
   "outputs": [],
   "source": [
    "import numpy as np\n",
    "import matplotlib.pyplot as plt\n",
    "import xarray as xr\n",
    "import cmocean as cmo\n",
    "import glob\n",
    "from tqdm import tqdm\n",
    "import sys\n",
    "import calendar"
   ]
  },
  {
   "cell_type": "code",
   "execution_count": 2,
   "metadata": {},
   "outputs": [],
   "source": [
    "case_name = 'Weak'\n",
    "years = '[2-3]'"
   ]
  },
  {
   "cell_type": "code",
   "execution_count": 3,
   "metadata": {},
   "outputs": [],
   "source": [
    "x_array = np.arange(0, 1122*2500, 2500)\n",
    "y_array = np.arange(20*2500, 430*2500, 2500)\n",
    "x_rho, y_rho = np.meshgrid(x_array, y_array)"
   ]
  },
  {
   "cell_type": "markdown",
   "metadata": {},
   "source": [
    "# Monthly mean temp_rate and eddy advection"
   ]
  },
  {
   "cell_type": "code",
   "execution_count": 4,
   "metadata": {},
   "outputs": [],
   "source": [
    "heat_balance_files = glob.glob('/projects2/rsmas/ikamenkovich/ROAM/GISELE/roam/ocn/new_diagnostics/monthly_data/monthly_ml_heat_balance/' \n",
    "                                + case_name + '_ml_heat_balance/monthly_ml_heat_balance_2016-*_' + case_name + 'Eddies.nc')\n",
    "heat_balance_files = sorted(heat_balance_files)"
   ]
  },
  {
   "cell_type": "code",
   "execution_count": 5,
   "metadata": {},
   "outputs": [
    {
     "name": "stdout",
     "output_type": "stream",
     "text": [
      "CPU times: user 140 ms, sys: 132 ms, total: 272 ms\n",
      "Wall time: 4.48 s\n"
     ]
    }
   ],
   "source": [
    "%%time\n",
    "temp_rate_ml, eddy_adv_ml, temp_adv_ml = np.zeros([len(heat_balance_files), 410, 1122]), np.zeros([len(heat_balance_files), 410, 1122]), np.zeros([len(heat_balance_files), 410, 1122])\n",
    "for num, temp_rate_ml_eddy_file in enumerate(heat_balance_files):\n",
    "    temp_rate_ml_ds = xr.open_dataset(temp_rate_ml_eddy_file)\n",
    "    temp_rate_ml[num] = temp_rate_ml_ds.temp_rate_ml.data\n",
    "    eddy_adv_ml[num] = temp_rate_ml_ds.eddy_adv_ml.data\n",
    "    temp_adv_ml[num] = temp_rate_ml_ds.temp_adv_ml.data"
   ]
  },
  {
   "cell_type": "code",
   "execution_count": 6,
   "metadata": {},
   "outputs": [
    {
     "data": {
      "text/plain": [
       "<xarray.Dataset>\n",
       "Dimensions:       (eta_rho: 290, ocean_time: 12, xi_rho: 1002)\n",
       "Coordinates:\n",
       "  * eta_rho       (eta_rho) int64 200000 202500 205000 ... 917500 920000 922500\n",
       "  * xi_rho        (xi_rho) int64 150000 152500 155000 ... 2650000 2652500\n",
       "Dimensions without coordinates: ocean_time\n",
       "Data variables:\n",
       "    eddy_adv_ml   (ocean_time, eta_rho, xi_rho) float64 -1.24e+04 ... 889.7\n",
       "    temp_rate_ml  (ocean_time, eta_rho, xi_rho) float64 -6.669 -7.674 ... 3.774\n",
       "    x_rho         (eta_rho, xi_rho) int64 150000 152500 ... 2650000 2652500\n",
       "    y_rho         (eta_rho, xi_rho) int64 200000 200000 200000 ... 922500 922500"
      ]
     },
     "execution_count": 6,
     "metadata": {},
     "output_type": "execute_result"
    }
   ],
   "source": [
    "MS_ds = xr.Dataset(data_vars={'eddy_adv_ml' : (('ocean_time','eta_rho', 'xi_rho'), eddy_adv_ml[:, 60:350, 60:1062]),\n",
    "                            'temp_rate_ml' : (('ocean_time','eta_rho', 'xi_rho'), temp_rate_ml[:, 60:350, 60:1062]),\n",
    "                            'x_rho' : (('eta_rho', 'xi_rho'), x_rho[60:350, 60:1062]),\n",
    "                            'y_rho' : (('eta_rho', 'xi_rho'), y_rho[60:350, 60:1062])},\n",
    "                coords={ 'eta_rho':   y_rho[60:350,0], 'xi_rho':    x_rho[0, 60:1062]})\n",
    "MS_ds"
   ]
  },
  {
   "cell_type": "markdown",
   "metadata": {},
   "source": [
    "## coefficients for binned statistics"
   ]
  },
  {
   "cell_type": "code",
   "execution_count": 7,
   "metadata": {},
   "outputs": [],
   "source": [
    "population_cutoff = 5000\n",
    "eddy_adv_bins = np.arange(-2000, 2000, 100)"
   ]
  },
  {
   "cell_type": "markdown",
   "metadata": {},
   "source": [
    "# Eddy adv and ML heating/cooling"
   ]
  },
  {
   "cell_type": "code",
   "execution_count": 8,
   "metadata": {},
   "outputs": [
    {
     "name": "stderr",
     "output_type": "stream",
     "text": [
      "/nethome/yxg390/miniconda3/envs/pyenv/lib/python3.6/site-packages/xarray/core/groupby.py:833: FutureWarning: Default reduction dimension will be changed to the grouped dimension in a future version of xarray. To silence this warning, pass dim=xarray.ALL_DIMS explicitly.\n",
      "  allow_lazy=True, **kwargs)\n"
     ]
    }
   ],
   "source": [
    "meso_grouped_mean = MS_ds.groupby_bins('eddy_adv_ml', eddy_adv_bins, squeeze=False).mean()\n",
    "meso_grouped_std = MS_ds.groupby_bins('eddy_adv_ml', eddy_adv_bins, squeeze=False).std()\n",
    "\n",
    "# calculating bin population\n",
    "meso_groups = MS_ds.groupby_bins('eddy_adv_ml', eddy_adv_bins, squeeze=False).groups\n",
    "    \n",
    "count = 0\n",
    "meso_bin_popu = np.zeros([len(meso_groups.keys()), 2])\n",
    "for key in meso_groups.keys():\n",
    "    meso_bin_popu[count] = key.left, len(meso_groups[key])\n",
    "    count += 1\n",
    "    \n",
    "# finding the bins \n",
    "meso_valid = np.where(meso_bin_popu[meso_bin_popu[:, 0].argsort(), 1] > population_cutoff)"
   ]
  },
  {
   "cell_type": "code",
   "execution_count": 9,
   "metadata": {},
   "outputs": [
    {
     "data": {
      "text/plain": [
       "<xarray.Dataset>\n",
       "Dimensions:           (eddy_adv_ml_bins: 39)\n",
       "Coordinates:\n",
       "  * eddy_adv_ml_bins  (eddy_adv_ml_bins) object (-2000, -1900] ... (1800, 1900]\n",
       "Data variables:\n",
       "    eddy_adv_ml       (eddy_adv_ml_bins) float64 -1.948e+03 ... 1.849e+03\n",
       "    temp_rate_ml      (eddy_adv_ml_bins) float64 -89.24 -90.94 ... -47.65 -55.1\n",
       "    x_rho             (eddy_adv_ml_bins) float64 1.291e+06 ... 1.42e+06\n",
       "    y_rho             (eddy_adv_ml_bins) float64 2.181e+05 ... 2.55e+05"
      ]
     },
     "execution_count": 9,
     "metadata": {},
     "output_type": "execute_result"
    }
   ],
   "source": [
    "meso_grouped_mean"
   ]
  },
  {
   "cell_type": "code",
   "execution_count": 10,
   "metadata": {},
   "outputs": [],
   "source": [
    "eddy_adv_ml_data, MS_SSTA_mean_data, MS_SSTA_std_data = meso_grouped_mean.eddy_adv_ml[meso_valid].data, meso_grouped_mean.temp_rate_ml[meso_valid].data, meso_grouped_std.temp_rate_ml[meso_valid].data\n",
    "MS_bin_popu_data = meso_bin_popu[meso_bin_popu[:, 0].argsort(), 1][meso_valid]\n",
    "#mean_adv_ml_data, LS_SSTA_mean_data, LS_SSTA_std_data, LS_bin_popu_data"
   ]
  },
  {
   "cell_type": "code",
   "execution_count": 11,
   "metadata": {},
   "outputs": [
    {
     "data": {
      "text/plain": [
       "<xarray.Dataset>\n",
       "Dimensions:                     (eddy_adv: 22, temp_adv: 22)\n",
       "Coordinates:\n",
       "  * eddy_adv                    (eddy_adv) int64 0 1 2 3 4 5 ... 17 18 19 20 21\n",
       "Dimensions without coordinates: temp_adv\n",
       "Data variables:\n",
       "    eddy_adv_ml_bin_left        (temp_adv) float64 -1.148e+03 ... 945.3\n",
       "    temp_rate_ml_mean           (temp_adv) float64 -74.07 -75.81 ... -37.07\n",
       "    temp_rate_ml_std            (temp_adv) float64 74.03 76.72 ... 75.72 70.85\n",
       "    eddy_adv_ml_bin_population  (temp_adv) float64 5.748e+03 ... 6.301e+03"
      ]
     },
     "execution_count": 11,
     "metadata": {},
     "output_type": "execute_result"
    }
   ],
   "source": [
    "eddy_stats_ds = xr.Dataset(data_vars={'eddy_adv_ml_bin_left' : (('temp_adv'), eddy_adv_ml_data),\n",
    "                           'temp_rate_ml_mean' : (('temp_adv'), MS_SSTA_mean_data),\n",
    "                           'temp_rate_ml_std' : (('temp_adv'), MS_SSTA_std_data),\n",
    "                           'eddy_adv_ml_bin_population' : (('temp_adv'), MS_bin_popu_data)},\n",
    "                coords={ 'eddy_adv': np.arange(len(MS_bin_popu_data))})\n",
    "eddy_stats_ds"
   ]
  },
  {
   "cell_type": "code",
   "execution_count": 12,
   "metadata": {},
   "outputs": [],
   "source": [
    "eddy_stats_ds.to_netcdf('./' + case_name + '_temp_rate_eddy_adv_binned_statistics_2016.nc')"
   ]
  },
  {
   "cell_type": "markdown",
   "metadata": {},
   "source": [
    "# Total adv and ML heating/cooling"
   ]
  },
  {
   "cell_type": "code",
   "execution_count": null,
   "metadata": {},
   "outputs": [],
   "source": [
    "total_ds = xr.Dataset(data_vars={'temp_adv_ml' : (('ocean_time','eta_rho', 'xi_rho'), temp_adv_ml[:]),\n",
    "                            'temp_rate_ml' : (('ocean_time','eta_rho', 'xi_rho'), temp_rate_ml[:]),\n",
    "                            'x_rho' : (('eta_rho', 'xi_rho'), x_rho),\n",
    "                            'y_rho' : (('eta_rho', 'xi_rho'), y_rho)},\n",
    "                coords={ 'eta_rho':   y_rho[:,0], 'xi_rho':    x_rho[0, :]})\n",
    "total_ds"
   ]
  },
  {
   "cell_type": "code",
   "execution_count": null,
   "metadata": {},
   "outputs": [],
   "source": [
    "total_adv_bins = np.arange(-800, 800, 25)\n",
    "total_grouped_mean = total_ds.groupby_bins('temp_adv_ml', total_adv_bins, squeeze=False).mean()\n",
    "total_grouped_std = total_ds.groupby_bins('temp_adv_ml', total_adv_bins, squeeze=False).std()\n",
    "# calculating bin population\n",
    "total_groups = total_ds.groupby_bins('temp_adv_ml', total_adv_bins, squeeze=False).groups   \n",
    "count = 0\n",
    "total_bin_popu = np.zeros([len(total_groups.keys()), 2])\n",
    "for key in total_groups.keys():\n",
    "    total_bin_popu[count] = key.left, len(total_groups[key])\n",
    "    count += 1   \n",
    "# finding the bins \n",
    "total_valid = np.where(total_bin_popu[total_bin_popu[:, 0].argsort(), 1] > population_cutoff)"
   ]
  },
  {
   "cell_type": "code",
   "execution_count": null,
   "metadata": {},
   "outputs": [],
   "source": [
    "total_grouped_mean"
   ]
  },
  {
   "cell_type": "code",
   "execution_count": null,
   "metadata": {},
   "outputs": [],
   "source": [
    "total_adv_ml_data, total_SSTA_mean_data, total_SSTA_std_data = total_grouped_mean.temp_adv_ml[total_valid].data, total_grouped_mean.temp_rate_ml[total_valid].data, total_grouped_std.temp_rate_ml[total_valid].data\n",
    "total_bin_popu_data = total_bin_popu[total_bin_popu[:, 0].argsort(), 1][total_valid]"
   ]
  },
  {
   "cell_type": "code",
   "execution_count": null,
   "metadata": {},
   "outputs": [],
   "source": [
    "total_stats_ds = xr.Dataset(data_vars={'temp_adv_ml_bin_left' : (('temp_adv'), total_adv_ml_data),\n",
    "                           'temp_rate_ml_mean' : (('temp_adv'), total_SSTA_mean_data),\n",
    "                           'temp_rate_ml_std' : (('temp_adv'), total_SSTA_std_data),\n",
    "                           'eddy_adv_ml_bin_population' : (('temp_adv'), total_bin_popu_data)},\n",
    "                coords={ 'eddy_adv': np.arange(len(MS_bin_popu_data))})\n",
    "total_stats_ds"
   ]
  },
  {
   "cell_type": "code",
   "execution_count": null,
   "metadata": {},
   "outputs": [],
   "source": [
    "total_stats_ds.to_netcdf('./' + case_name + '_temp_rate_total_adv_binned_statistics_2016.nc')"
   ]
  },
  {
   "cell_type": "code",
   "execution_count": null,
   "metadata": {},
   "outputs": [],
   "source": [
    "total_stats_ds"
   ]
  },
  {
   "cell_type": "code",
   "execution_count": null,
   "metadata": {},
   "outputs": [],
   "source": []
  }
 ],
 "metadata": {
  "kernelspec": {
   "display_name": "Python 3",
   "language": "python",
   "name": "python3"
  },
  "language_info": {
   "codemirror_mode": {
    "name": "ipython",
    "version": 3
   },
   "file_extension": ".py",
   "mimetype": "text/x-python",
   "name": "python",
   "nbconvert_exporter": "python",
   "pygments_lexer": "ipython3",
   "version": "3.6.7"
  }
 },
 "nbformat": 4,
 "nbformat_minor": 4
}
